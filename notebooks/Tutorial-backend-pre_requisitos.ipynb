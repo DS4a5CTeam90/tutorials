{
 "cells": [
  {
   "cell_type": "markdown",
   "id": "6db4bac2-d322-49ce-8933-b535346959d0",
   "metadata": {},
   "source": [
    "# Tutorial sobre desarrollo de aplicaciones (BACKEND)"
   ]
  },
  {
   "cell_type": "markdown",
   "id": "5743146f-0078-4a06-975f-4a4e8c235459",
   "metadata": {},
   "source": [
    "## Pre-requisitos\n",
    "\n",
    "1. Cuenta en Github\n",
    "2. Instalación de Git en sus maquinas de desarrollo\n",
    "3. Configuración de la llave SSH-Key (para descargar y subir codigo)\n",
    "4. Cuenta en Heroku\n",
    "\n",
    "-----------\n",
    "\n",
    "1. Cuenta en Github: \n",
    "\n",
    "Visitar el sitio web: https://github.com/ y seguir los pasos para registrarse. Todos ustedes ya lo han hecho, asi que estamos bien por este lado.\n",
    "\n",
    "2. Instalación de Git en sus maquinas de desarrollo\n",
    "\n",
    "#### Modo 1\n",
    "\n",
    "Por simplicidad, vamos a hacerlo desde el Workspace de DS4A, en donde ya está instalado Git.\n",
    "\n",
    "#### Modo 2\n",
    "\n",
    "Dirigirse al siguiente sitio web y descargar el ejecutable de instalación (según el sistema operativo que tengan):\n",
    "\n",
    "https://git-scm.com/book/en/v2/Getting-Started-Installing-Git\n",
    "\n",
    "Por ejemplo, para Windows:\n",
    "\n",
    "https://git-scm.com/download/win\n",
    "\n",
    "3. Configuración de la llave SSH-Key\n",
    "\n",
    "Superando 1 - es un registro estandard, como en cualquier otro servicio Web - y el 2, que consiste en instalar un ejecutable, el punto importante es el de la configuracion de la SSH-Key.\n",
    "\n",
    "Para esto, vamos a seguir las instrucciones sugeridas en el siguiente sitio:\n",
    "\n",
    "https://docs.github.com/en/github/authenticating-to-github/connecting-to-github-with-ssh/generating-a-new-ssh-key-and-adding-it-to-the-ssh-agent\n"
   ]
  },
  {
   "cell_type": "code",
   "execution_count": 1,
   "id": "919928c6-741a-46f3-af94-5f9c07c92403",
   "metadata": {},
   "outputs": [
    {
     "data": {
      "text/html": [
       "<video src=\"video_ssh.mp4\" controls  >\n",
       "      Your browser does not support the <code>video</code> element.\n",
       "    </video>"
      ],
      "text/plain": [
       "<IPython.core.display.Video object>"
      ]
     },
     "execution_count": 1,
     "metadata": {},
     "output_type": "execute_result"
    }
   ],
   "source": [
    "from IPython.display import Video\n",
    "Video(\"video_ssh.mp4\")"
   ]
  },
  {
   "cell_type": "markdown",
   "id": "b4de1526-4ec8-4678-8fad-431b538122bb",
   "metadata": {},
   "source": [
    "Ese paso el paso # 1. Ahora necesitamos adicionar esa llave SSH (SSH-KEY) a Github para que nos autorice nuestra maquina de desarrollo. Seguiremos las instrucciones que el mismo Github nos ofrece:\n",
    "\n",
    "https://docs.github.com/en/github/authenticating-to-github/connecting-to-github-with-ssh/adding-a-new-ssh-key-to-your-github-account\n",
    "\n",
    "La guia de Github sugiere instalar xclip. Vamos en cambio hacer el siguiente procedimiento más simple:\n"
   ]
  },
  {
   "cell_type": "code",
   "execution_count": 9,
   "id": "ed816c91-44b4-49d6-adf3-4838217d416f",
   "metadata": {},
   "outputs": [
    {
     "data": {
      "text/html": [
       "<video src=\"video_add_key_01.mp4\" controls  >\n",
       "      Your browser does not support the <code>video</code> element.\n",
       "    </video>"
      ],
      "text/plain": [
       "<IPython.core.display.Video object>"
      ]
     },
     "execution_count": 9,
     "metadata": {},
     "output_type": "execute_result"
    }
   ],
   "source": [
    "Video(\"video_add_key_01.mp4\")"
   ]
  },
  {
   "cell_type": "code",
   "execution_count": 10,
   "id": "85a818d9-ce7b-4660-82ee-9c4361e95f8e",
   "metadata": {},
   "outputs": [
    {
     "data": {
      "text/html": [
       "<video src=\"video_add_key_02.mp4\" controls  >\n",
       "      Your browser does not support the <code>video</code> element.\n",
       "    </video>"
      ],
      "text/plain": [
       "<IPython.core.display.Video object>"
      ]
     },
     "execution_count": 10,
     "metadata": {},
     "output_type": "execute_result"
    }
   ],
   "source": [
    "Video(\"video_add_key_02.mp4\")"
   ]
  },
  {
   "cell_type": "markdown",
   "id": "71405dee-8ba5-415c-9fcd-f1337113cdc5",
   "metadata": {
    "tags": []
   },
   "source": [
    "Muy bien, ya tenemos lo necesario para autenticarnos y realizar parte del tutorial."
   ]
  }
 ],
 "metadata": {
  "kernelspec": {
   "display_name": "Python 3",
   "language": "python",
   "name": "python3"
  },
  "language_info": {
   "codemirror_mode": {
    "name": "ipython",
    "version": 3
   },
   "file_extension": ".py",
   "mimetype": "text/x-python",
   "name": "python",
   "nbconvert_exporter": "python",
   "pygments_lexer": "ipython3",
   "version": "3.7.4"
  }
 },
 "nbformat": 4,
 "nbformat_minor": 5
}
